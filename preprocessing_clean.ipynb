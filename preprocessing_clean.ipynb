{
 "cells": [
  {
   "cell_type": "markdown",
   "id": "bf7ff5ac",
   "metadata": {},
   "source": [
    "# Preprocessing Script\n",
    "This notebook contains basic preprocessing steps."
   ]
  },
  {
   "cell_type": "code",
   "execution_count": null,
   "id": "28ece539",
   "metadata": {},
   "outputs": [],
   "source": [
    "import pandas as pd\n",
    "from google.cloud import storage\n",
    "from google.oauth2 import service_account\n",
    "\n",
    "# Setup credentials (placeholder)\n",
    "# credentials = service_account.Credentials.from_service_account_file('your-key.json')\n"
   ]
  },
  {
   "cell_type": "code",
   "execution_count": null,
   "id": "ad0761f8",
   "metadata": {},
   "outputs": [],
   "source": [
    "# Load CSV from local or GCS\n",
    "def load_data(path):\n",
    "    return pd.read_csv(path)\n",
    "\n",
    "# Example:\n",
    "# df = load_data('accepted_2007_to_2018Q4.csv')\n"
   ]
  },
  {
   "cell_type": "code",
   "execution_count": null,
   "id": "9a28e925",
   "metadata": {},
   "outputs": [],
   "source": [
    "# Basic cleaning\n",
    "def clean_data(df):\n",
    "    df = df.dropna(subset=['loan_amnt', 'int_rate', 'term'])\n",
    "    df['int_rate'] = df['int_rate'].str.rstrip('%').astype(float)\n",
    "    return df\n",
    "\n",
    "# Example:\n",
    "# df = clean_data(df)\n"
   ]
  }
 ],
 "metadata": {},
 "nbformat": 4,
 "nbformat_minor": 5
}
